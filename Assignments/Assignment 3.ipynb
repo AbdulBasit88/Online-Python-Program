{
 "cells": [
  {
   "cell_type": "code",
   "execution_count": 3,
   "id": "929876ec",
   "metadata": {},
   "outputs": [
    {
     "name": "stdout",
     "output_type": "stream",
     "text": [
      "Twinkle, twinkle little star\n",
      "\tHow I wonder what you are!\n",
      "\t\tUp above the world so high\n",
      "\t\tLike a diamond in the sky\n",
      "Twinkle twinkle little star,\n",
      "\tHow I wonder what you are\n"
     ]
    }
   ],
   "source": [
    "# 1. Write a program to print the string in the specific format\n",
    "print (\"Twinkle, twinkle little star\\n\\tHow I wonder what you are!\\n\\t\\tUp above the world so high\\n\\t\\tLike a diamond in the sky\\nTwinkle twinkle little star,\\n\\tHow I wonder what you are\");"
   ]
  },
  {
   "cell_type": "code",
   "execution_count": 4,
   "id": "a9ba1156",
   "metadata": {},
   "outputs": [
    {
     "name": "stdout",
     "output_type": "stream",
     "text": [
      "The version of python is 3.8.8 (default, Apr 13 2021, 15:08:07) [MSC v.1916 32 bit (Intel)]\n"
     ]
    }
   ],
   "source": [
    "#2. Program to print the version of python being used\n",
    "import sys\n",
    "print (\"The version of python is \" + str(sys.version));"
   ]
  },
  {
   "cell_type": "code",
   "execution_count": 13,
   "id": "82a20bf5",
   "metadata": {},
   "outputs": [
    {
     "name": "stdout",
     "output_type": "stream",
     "text": [
      "Today the date is 23-10-21 and the time right now is 23:42:13\n"
     ]
    }
   ],
   "source": [
    "#3. Program to print current date & time\n",
    "import datetime;\n",
    "timenow = datetime.datetime.now();\n",
    "print (\"Today the date is \" + timenow.strftime(\"%d-%m-%y\") + \" and the time right now is \" + timenow.strftime(\"%H:%M:%S\"));"
   ]
  },
  {
   "cell_type": "code",
   "execution_count": 18,
   "id": "172ca37d",
   "metadata": {},
   "outputs": [
    {
     "name": "stdout",
     "output_type": "stream",
     "text": [
      "Enter the radius of circle to calculate the area: 20\n",
      "The area of circle according to given radius is 62.83185307179586\n"
     ]
    }
   ],
   "source": [
    "#4. Program to get value of radius of a circle from user and compute the area\n",
    "radius = int(input(\"Enter the radius of circle to calculate the area: \"));\n",
    "import math;\n",
    "print (\"The area of circle according to given radius is \" + str(math.pi*radius));"
   ]
  },
  {
   "cell_type": "code",
   "execution_count": 21,
   "id": "783db69b",
   "metadata": {},
   "outputs": [
    {
     "name": "stdout",
     "output_type": "stream",
     "text": [
      "Enter your first name: Abdul\n",
      "Enter your last name: Basit\n",
      "Basit Abdul\n"
     ]
    }
   ],
   "source": [
    "#5. Program to get first & last name and print in reverse order\n",
    "fName = input(\"Enter your first name: \");\n",
    "lName = input(\"Enter your last name: \");\n",
    "print (lName + \" \" + fName);"
   ]
  },
  {
   "cell_type": "code",
   "execution_count": 23,
   "id": "f2916d1c",
   "metadata": {},
   "outputs": [
    {
     "name": "stdout",
     "output_type": "stream",
     "text": [
      "Enter first number: 15\n",
      "Enter second number: 15\n",
      "30\n"
     ]
    }
   ],
   "source": [
    "#6. Program to get 2 numbers from user and print their addition\n",
    "num1 = int(input(\"Enter first number: \"));\n",
    "num2 = int(input(\"Enter second number: \"));\n",
    "print (num1 + num2);"
   ]
  },
  {
   "cell_type": "code",
   "execution_count": 11,
   "id": "b1546582",
   "metadata": {},
   "outputs": [
    {
     "name": "stdout",
     "output_type": "stream",
     "text": [
      "Enter marks in Islamiat: 29\n",
      "Enter marks in Maths: 25\n",
      "Enter marks in English: 20\n",
      "Enter marks in Computer: 30\n",
      "Enter marks in Physics: 15\n",
      "Your obtained marks are 119, your percentage is 23.8 and your grade is F i.e., you are Fail\n"
     ]
    }
   ],
   "source": [
    "#7. Program to print marksheet of 5 subjects with grades\n",
    "isl = int(input(\"Enter marks in Islamiat: \"));\n",
    "maths = int(input(\"Enter marks in Maths: \"));\n",
    "eng = int(input(\"Enter marks in English: \"));\n",
    "comp = int(input(\"Enter marks in Computer: \"));\n",
    "physics = int(input(\"Enter marks in Physics: \"));\n",
    "\n",
    "obtMarks = isl + maths + eng + comp + physics;\n",
    "totalMarks = 500;\n",
    "perc = round(((obtMarks/totalMarks) * 100), 2);\n",
    "\n",
    "statement = \"Your obtained marks are \" + str(obtMarks) + \", your percentage is \" + str(perc) + \" and your grade is \";\n",
    "\n",
    "if perc <= 100 and perc >=80:\n",
    "    print (statement + \"A+\");\n",
    "elif perc < 80 and perc >= 70:\n",
    "    print (statement + \"A\");\n",
    "elif perc < 70 and perc >= 60:\n",
    "    print (statement + \"B\");\n",
    "elif perc < 60 and perc >= 50:\n",
    "    print (statement + \"C\");\n",
    "elif perc < 50 and perc >= 40:\n",
    "    print (statement + \"D\");\n",
    "elif perc < 40 and perc >= 33:\n",
    "    print (statement + \"E\");\n",
    "elif perc < 33 and perc >= 0:\n",
    "    print (statement + \"F i.e., you are Fail\");"
   ]
  },
  {
   "cell_type": "code",
   "execution_count": 17,
   "id": "dc7396e6",
   "metadata": {},
   "outputs": [
    {
     "name": "stdout",
     "output_type": "stream",
     "text": [
      "Enter any number: 1008\n",
      "The given number is even\n"
     ]
    }
   ],
   "source": [
    "#8. Program to identify number as even or odd\n",
    "number = int(input(\"Enter any number: \"));\n",
    "if number%2 == 0:\n",
    "    print (\"The given number is even\");\n",
    "else:\n",
    "    print (\"The given number is odd\");"
   ]
  },
  {
   "cell_type": "code",
   "execution_count": 22,
   "id": "961c8036",
   "metadata": {},
   "outputs": [
    {
     "name": "stdout",
     "output_type": "stream",
     "text": [
      "The length of list is 5\n"
     ]
    }
   ],
   "source": [
    "#9. Program to print length of the list\n",
    "arr = [\"Ahmed\", \"Ali\", \"Umer\", \"Javed\", \"Farhan\"];\n",
    "print (\"The length of list is \" + str(len(arr)));"
   ]
  },
  {
   "cell_type": "code",
   "execution_count": 26,
   "id": "4ce2c70d",
   "metadata": {},
   "outputs": [
    {
     "name": "stdout",
     "output_type": "stream",
     "text": [
      "The sum of all numerics in the list is 150\n"
     ]
    }
   ],
   "source": [
    "#10. Program to sum all numerics in a list\n",
    "arr = [10, 20, 30, 40, 50];\n",
    "print (\"The sum of all numerics in the list is \" + str(sum(arr)));"
   ]
  },
  {
   "cell_type": "code",
   "execution_count": 44,
   "id": "5daee4eb",
   "metadata": {},
   "outputs": [
    {
     "name": "stdout",
     "output_type": "stream",
     "text": [
      "60\n"
     ]
    }
   ],
   "source": [
    "#11. Program to get the largest number in list\n",
    "arr = [10, 20, 60, 40, 50];\n",
    "print (max(arr));"
   ]
  },
  {
   "cell_type": "code",
   "execution_count": 45,
   "id": "8b948232",
   "metadata": {},
   "outputs": [
    {
     "name": "stdout",
     "output_type": "stream",
     "text": [
      "1\n",
      "2\n",
      "3\n",
      "4\n"
     ]
    }
   ],
   "source": [
    "#12. Program to print all elements less than 5\n",
    "arr = [1, 2, 3, 5, 8, 13, 21, 34, 4, 89];\n",
    "for a in arr:\n",
    "    if a < 5:\n",
    "        print (a);"
   ]
  },
  {
   "cell_type": "code",
   "execution_count": null,
   "id": "478ff24f",
   "metadata": {},
   "outputs": [],
   "source": []
  },
  {
   "cell_type": "code",
   "execution_count": null,
   "id": "a350f5ab",
   "metadata": {},
   "outputs": [],
   "source": []
  }
 ],
 "metadata": {
  "kernelspec": {
   "display_name": "Python 3",
   "language": "python",
   "name": "python3"
  },
  "language_info": {
   "codemirror_mode": {
    "name": "ipython",
    "version": 3
   },
   "file_extension": ".py",
   "mimetype": "text/x-python",
   "name": "python",
   "nbconvert_exporter": "python",
   "pygments_lexer": "ipython3",
   "version": "3.8.8"
  }
 },
 "nbformat": 4,
 "nbformat_minor": 5
}
