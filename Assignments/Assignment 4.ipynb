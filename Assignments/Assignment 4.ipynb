{
 "cells": [
  {
   "cell_type": "markdown",
   "id": "ca6f8221",
   "metadata": {},
   "source": [
    "# Calculator"
   ]
  },
  {
   "cell_type": "code",
   "execution_count": 6,
   "id": "61975f34",
   "metadata": {},
   "outputs": [
    {
     "name": "stdout",
     "output_type": "stream",
     "text": [
      "Enter relevant number for the following tasks \n",
      "1. Addition\n",
      "2. Subtraction\n",
      "3. Multiplication\n",
      "4. Division\n",
      "5. Power\n",
      "Enter from any of above number to perform relevant task: 5\n",
      "Enter first number5\n",
      "Enter second number2\n",
      "The result is 25\n"
     ]
    }
   ],
   "source": [
    "print (\"Enter relevant number for the following tasks \\n1. Addition\\n2. Subtraction\\n3. Multiplication\\n4. Division\\n5. Power\")\n",
    "task = int(input(\"Enter from any of above number to perform relevant task: \"))\n",
    "if task > 0 and task <= 5:\n",
    "    nmbr1 = int(input(\"Enter first number\"))\n",
    "    nmbr2 = int(input(\"Enter second number\"))\n",
    "else:\n",
    "    print (\"Please select from above numbers\")\n",
    "\n",
    "if task == 1:\n",
    "    print(\"The result is \" + str(nmbr1+nmbr2))\n",
    "elif task == 2:\n",
    "    print(\"The result is \" + str(nmbr1-nmbr2))\n",
    "elif task == 3:\n",
    "    print(\"The result is \" + str(nmbr1*nmbr2))\n",
    "elif task == 4:\n",
    "    print(\"The result is \" + str(nmbr1/nmbr2))\n",
    "elif task == 5:\n",
    "    print(\"The result is \" + str(nmbr1**nmbr2))"
   ]
  },
  {
   "cell_type": "markdown",
   "id": "302b5a15",
   "metadata": {},
   "source": [
    "# Program to check any numeric value in list using for loop"
   ]
  },
  {
   "cell_type": "code",
   "execution_count": 14,
   "id": "6b514d69",
   "metadata": {},
   "outputs": [
    {
     "name": "stdout",
     "output_type": "stream",
     "text": [
      "Here's the numeric value in your list\n",
      "5\n"
     ]
    }
   ],
   "source": [
    "arr = [\"item1\", \"item2\", \"item3\", 5, \"item5\"]\n",
    "\n",
    "for i in arr:\n",
    "    if type(i) == int:\n",
    "        print (\"Here's the numeric value in your list\\n\"+str(i))"
   ]
  },
  {
   "cell_type": "markdown",
   "id": "5d3e7407",
   "metadata": {},
   "source": [
    "# Add a Key to a Dictionary"
   ]
  },
  {
   "cell_type": "code",
   "execution_count": 15,
   "id": "2e8ca4e1",
   "metadata": {},
   "outputs": [
    {
     "name": "stdout",
     "output_type": "stream",
     "text": [
      "{1: 'item1', 2: 'item2'}\n",
      "{1: 'item1', 2: 'item2', 3: 'item3'}\n"
     ]
    }
   ],
   "source": [
    "mydict = {1:\"item1\", 2:\"item2\"}\n",
    "print (mydict)\n",
    "\n",
    "mydict[3] = \"item3\"\n",
    "print (mydict)"
   ]
  },
  {
   "cell_type": "markdown",
   "id": "54c8cd41",
   "metadata": {},
   "source": [
    "# Sum all numeric items in a dictionary"
   ]
  },
  {
   "cell_type": "code",
   "execution_count": 6,
   "id": "ee036bd8",
   "metadata": {},
   "outputs": [
    {
     "name": "stdout",
     "output_type": "stream",
     "text": [
      "60\n"
     ]
    }
   ],
   "source": [
    "newdict = {1: 10, 2: 30, 3: \"non numeric value\", 4: 20}\n",
    "num = 0\n",
    "for i in newdict:\n",
    "    if type(newdict[i]) == int:\n",
    "        num = num + newdict[i]\n",
    "print (num)"
   ]
  }
 ],
 "metadata": {
  "kernelspec": {
   "display_name": "Python 3",
   "language": "python",
   "name": "python3"
  },
  "language_info": {
   "codemirror_mode": {
    "name": "ipython",
    "version": 3
   },
   "file_extension": ".py",
   "mimetype": "text/x-python",
   "name": "python",
   "nbconvert_exporter": "python",
   "pygments_lexer": "ipython3",
   "version": "3.8.8"
  }
 },
 "nbformat": 4,
 "nbformat_minor": 5
}
