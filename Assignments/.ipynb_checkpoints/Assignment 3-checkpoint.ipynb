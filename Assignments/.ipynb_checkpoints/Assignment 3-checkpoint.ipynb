{
 "cells": [
  {
   "cell_type": "code",
   "execution_count": 4,
   "id": "d1149c0a",
   "metadata": {},
   "outputs": [
    {
     "name": "stdout",
     "output_type": "stream",
     "text": [
      "Enter marks in Islamiat 20\n",
      "Enter marks in English 20\n",
      "Enter marks in Maths 20\n",
      "Your marks are 60, your percentage is 20.0 and your grade is F\n"
     ]
    }
   ],
   "source": [
    "islMarks = int(input(\"Enter marks in Islamiat \"));\n",
    "engMarks = int(input(\"Enter marks in English \"));\n",
    "mathMarks = int(input(\"Enter marks in Maths \"));\n",
    "obtMarks = islMarks + engMarks + mathMarks;\n",
    "totalMarks = 300;\n",
    "perc = (obtMarks/totalMarks)*100;\n",
    "\n",
    "statement = \"Your marks are \" + str(obtMarks) + \", your percentage is \" + str(perc) + \" and your grade is \";\n",
    "if perc <= 100 and perc >= 80:\n",
    "    print (statement + \"A+\");\n",
    "elif perc < 80 and perc >= 70:\n",
    "    print (statement + \"A\");\n",
    "elif perc < 70 and perc >= 60:\n",
    "    print (statement + \"B\");\n",
    "elif perc < 60 and perc >= 50:\n",
    "    print (statement + \"C\");\n",
    "elif perc < 50 and perc >= 40:\n",
    "    print (statement + \"D\");\n",
    "elif perc < 40 and perc >= 33:\n",
    "    print (statement + \"E\");\n",
    "elif perc < 33 and perc >= 0:\n",
    "    print (statement + \"F\");"
   ]
  },
  {
   "cell_type": "code",
   "execution_count": null,
   "id": "19994080",
   "metadata": {},
   "outputs": [],
   "source": []
  }
 ],
 "metadata": {
  "kernelspec": {
   "display_name": "Python 3",
   "language": "python",
   "name": "python3"
  },
  "language_info": {
   "codemirror_mode": {
    "name": "ipython",
    "version": 3
   },
   "file_extension": ".py",
   "mimetype": "text/x-python",
   "name": "python",
   "nbconvert_exporter": "python",
   "pygments_lexer": "ipython3",
   "version": "3.8.8"
  }
 },
 "nbformat": 4,
 "nbformat_minor": 5
}
